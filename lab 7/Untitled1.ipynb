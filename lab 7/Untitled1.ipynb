{
 "cells": [
  {
   "cell_type": "code",
   "execution_count": 5,
   "id": "96f285a2-8a29-43c7-9ea9-5ccb9712dbad",
   "metadata": {},
   "outputs": [],
   "source": [
    "from textblob import TextBlob\n",
    "from vaderSentiment.vaderSentiment import SentimentIntensityAnalyzer\n",
    "from tabulate import tabulate\n"
   ]
  },
  {
   "cell_type": "code",
   "execution_count": null,
   "id": "06f35165-36e4-4ad8-8b84-a99bf6daa9db",
   "metadata": {},
   "outputs": [],
   "source": [
    "data = [\n",
    " (\"I love this product, it's amazing!\", 'positive'),\n",
    " (\"This product is terrible, I hate it.\", 'negative'),\n",
    " (\"It's okay, not bad but not great either.\", 'neutral'),\n",
    " (\"Best product ever, highly recommended!\", 'positive'),\n",
    " (\"I'm really disappointed with the quality.\", 'negative'),\n",
    " (\"So-so product, nothing special about it.\", 'neutral'),\n",
    " (\"The customer service was excellent!\", 'positive'),\n",
    " (\"I wasted my money on this useless product.\", 'negative'),\n",
    " (\"It's not the worst, but certainly not the best.\", 'neutral'),\n",
    " (\"I can't live without this product, it's a lifesaver!\", 'positive'),\n",
    " (\"The product arrived damaged and unusable.\", 'negative'),\n",
    " (\"It's average, neither good nor bad.\", 'neutral'),\n",
    " (\"Highly disappointed with the purchase.\", 'negative'),\n",
    " (\"The product exceeded my expectations.\", 'positive'),\n",
    " (\"It's just okay, nothing extraordinary.\", 'neutral'),\n",
    " (\"This product is excellent, it exceeded all my expectations!\", 'positive'),\n",
    " (\"I regret purchasing this product, it's a waste of money.\", 'negative'),\n",
    " (\"It's neither good nor bad, just average.\", 'neutral'),\n",
    " (\"Outstanding customer service, highly recommended!\", 'positive'),\n",
    " (\"I'm very disappointed with the quality of this item.\", 'negative'),\n",
    " (\"It's not the best product, but it gets the job done.\", 'neutral'),\n",
    " (\"This product is a game-changer, I can't imagine life without it!\", 'positive'),\n",
    " (\"I received a defective product, very dissatisfied.\", 'negative'),\n",
    " (\"It's neither great nor terrible, just okay.\", 'neutral'),\n",
    " (\"Fantastic product, I would buy it again in a heartbeat!\", 'positive'),\n",
    " (\"Avoid this product at all costs, complete waste of money.\", 'negative'),\n",
    " (\"It's decent, but nothing extraordinary.\", 'neutral'),\n",
    " (\"Impressive quality, exceeded my expectations!\", 'positive'),\n",
    " (\"I'm very unhappy with this purchase, total disappointment.\", 'negative'),\n",
    " (\"It's neither amazing nor terrible, somewhere in between.\", 'neutral')\n",
    "]\n"
   ]
  }
 ],
 "metadata": {
  "kernelspec": {
   "display_name": "Python [conda env:base] *",
   "language": "python",
   "name": "conda-base-py"
  },
  "language_info": {
   "codemirror_mode": {
    "name": "ipython",
    "version": 3
   },
   "file_extension": ".py",
   "mimetype": "text/x-python",
   "name": "python",
   "nbconvert_exporter": "python",
   "pygments_lexer": "ipython3",
   "version": "3.12.7"
  }
 },
 "nbformat": 4,
 "nbformat_minor": 5
}
