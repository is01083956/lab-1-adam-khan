{
 "cells": [
  {
   "cell_type": "code",
   "execution_count": 2,
   "id": "7baafc1b-fcb6-41ff-a941-7180d9388b99",
   "metadata": {},
   "outputs": [],
   "source": [
    "from collections import Counter #count word occurrences \n",
    "import pandas as pd"
   ]
  },
  {
   "cell_type": "code",
   "execution_count": 8,
   "id": "ef072a07-edd6-475c-96e6-8052bee5da0b",
   "metadata": {},
   "outputs": [],
   "source": [
    "file_path = \"Processed_Reviews .csv\" \n",
    "df = pd.read_csv(file_path) "
   ]
  },
  {
   "cell_type": "code",
   "execution_count": 10,
   "id": "d700277d-e502-4827-a238-b4e4e711277c",
   "metadata": {},
   "outputs": [],
   "source": [
    "tokenized_reviews = df['tokenized'].dropna().apply(eval) \n"
   ]
  },
  {
   "cell_type": "code",
   "execution_count": 14,
   "id": "93b084b6-8343-4ec7-9c9b-66a7563b298f",
   "metadata": {},
   "outputs": [],
   "source": [
    "all_words = [word for review in tokenized_reviews for word in review] \n",
    "unique_words = list(set(all_words)) "
   ]
  },
  {
   "cell_type": "code",
   "execution_count": 18,
   "id": "f61ad722-32c7-4faa-abb4-7b0197b4441f",
   "metadata": {},
   "outputs": [],
   "source": [
    "word_freq = Counter(all_words) \n",
    "sorted_word_freq = dict(sorted(word_freq.items(), reverse=True)) "
   ]
  },
  {
   "cell_type": "code",
   "execution_count": 22,
   "id": "c7c467cd-e2d7-48a2-ba8e-7efe314c9b5d",
   "metadata": {},
   "outputs": [],
   "source": [
    "document_vectors = []  \n",
    "for review in tokenized_reviews:  \n",
    "    document_vector = [1 if word in review else 0 for word in sorted_word_freq.keys()]  \n",
    "    document_vectors.append(document_vector)  \n"
   ]
  },
  {
   "cell_type": "code",
   "execution_count": 24,
   "id": "9fd3ef58-c684-42fa-9c8f-11f8ac3a2b32",
   "metadata": {},
   "outputs": [],
   "source": [
    "doc_vectors_df = pd.DataFrame(document_vectors, columns=sorted_word_freq.keys())"
   ]
  },
  {
   "cell_type": "code",
   "execution_count": 26,
   "id": "5c5c339b-a7b9-4229-acde-fd5567a22082",
   "metadata": {},
   "outputs": [],
   "source": [
    "doc_vectors_df.to_csv(\"document_vectors.csv\", index=False) "
   ]
  },
  {
   "cell_type": "code",
   "execution_count": 30,
   "id": "8bdc2aec-a11d-4024-b975-e9da3674cc19",
   "metadata": {},
   "outputs": [
    {
     "name": "stdout",
     "output_type": "stream",
     "text": [
      "Word Frequency Table:\n",
      "           Word  Frequency\n",
      "0           wow          1\n",
      "1         worth          1\n",
      "2          work          2\n",
      "3           use          1\n",
      "4       totally          1\n",
      "5          time          1\n",
      "6         short          1\n",
      "7          shoe          1\n",
      "8       quality          3\n",
      "9      purchase          1\n",
      "10      product          7\n",
      "11        phone          1\n",
      "12    perfectly          2\n",
      "13    packaging          1\n",
      "14           oh          1\n",
      "15          not          1\n",
      "16       nicely          1\n",
      "17         much          1\n",
      "18         love          2\n",
      "19         life          2\n",
      "20       laptop          1\n",
      "21          jog          1\n",
      "22           hz          1\n",
      "23       honest          1\n",
      "24        happy          1\n",
      "25        great          2\n",
      "26         good          1\n",
      "27          god          1\n",
      "28         full          1\n",
      "29          fit          1\n",
      "30         fine          1\n",
      "31         fast          1\n",
      "32    expensive          1\n",
      "33       expect          2\n",
      "34    excellent          1\n",
      "35         ever          1\n",
      "36      display          1\n",
      "37       detail          1\n",
      "38     delivery          1\n",
      "39  comfortable          1\n",
      "40        check          1\n",
      "41       charge          1\n",
      "42          can          1\n",
      "43        cable          1\n",
      "44          buy          1\n",
      "45          bit          1\n",
      "46         best          1\n",
      "47      believe          1\n",
      "48      battery          1\n",
      "49      awesome          2\n",
      "50       arrive          1\n",
      "51      amazing          2\n",
      "52        amaze          1\n"
     ]
    }
   ],
   "source": [
    "word_freq_df = pd.DataFrame(list(sorted_word_freq.items()), columns=[\"Word\", \"Frequency\"])  \n",
    "\n",
    "print(\"Word Frequency Table:\")  \n",
    "print(word_freq_df)  \n"
   ]
  },
  {
   "cell_type": "code",
   "execution_count": 32,
   "id": "176bb43c-5e34-4600-accd-4b287be0d8b8",
   "metadata": {},
   "outputs": [],
   "source": [
    "import pandas as pd \n",
    "import math # use for log function \n",
    "from collections import Counter "
   ]
  },
  {
   "cell_type": "code",
   "execution_count": 36,
   "id": "7b265857-3441-497f-9dd7-56ca5afebec0",
   "metadata": {},
   "outputs": [],
   "source": [
    "file_path = \"Processed_Reviews .csv\" \n",
    "df = pd.read_csv(file_path) "
   ]
  },
  {
   "cell_type": "code",
   "execution_count": 38,
   "id": "faee8620-c770-4b46-85c2-18e5990b0d3a",
   "metadata": {},
   "outputs": [],
   "source": [
    "tokenized_reviews = df['tokenized'].dropna().apply(eval) \n"
   ]
  },
  {
   "cell_type": "code",
   "execution_count": 42,
   "id": "b34cbe93-e606-403e-b2e7-b7e6c1ba7c18",
   "metadata": {},
   "outputs": [],
   "source": [
    "def compute_tf(document): \n",
    "    word_count = Counter(document) \n",
    "    tf = {word: count / len(document) for word, count in word_count.items()} \n",
    "    return tf"
   ]
  },
  {
   "cell_type": "code",
   "execution_count": 46,
   "id": "965fcbcd-0dc6-4b91-a547-ec5e53fa3ef9",
   "metadata": {},
   "outputs": [],
   "source": [
    "def compute_idf(documents):  \n",
    "    N = len(documents)  # Total number of documents  \n",
    "    idf = {}  \n",
    "    all_words = set(word for doc in documents for word in doc)  # Unique words  \n",
    "    \n",
    "    for word in all_words:  \n",
    "        count = sum(1 for doc in documents if word in doc)  \n",
    "        idf[word] = math.log(N / count)  \n",
    "    \n",
    "    return idf  "
   ]
  },
  {
   "cell_type": "code",
   "execution_count": 48,
   "id": "cffb7375-c8c5-4449-9164-dd3fe767d60e",
   "metadata": {},
   "outputs": [],
   "source": [
    "def compute_tfidf(document, idf): \n",
    "    tfidf = {} \n",
    "    tf = compute_tf(document)  # Get TF values for the document \n",
    "    for word, tf_value in tf.items(): \n",
    "        tfidf[word] = tf_value * idf[word]  # Multiply TF and IDF \n",
    "    return tfidf "
   ]
  },
  {
   "cell_type": "code",
   "execution_count": 50,
   "id": "3f9e321d-3a36-41ea-b0d2-1c10d291e32c",
   "metadata": {},
   "outputs": [],
   "source": [
    "documents = tokenized_reviews.tolist() \n"
   ]
  },
  {
   "cell_type": "code",
   "execution_count": 52,
   "id": "09143bab-fde2-47a4-8b4d-eaec262ee203",
   "metadata": {},
   "outputs": [],
   "source": [
    "tf_data = [compute_tf(doc) for doc in documents] \n",
    "tf_df = pd.DataFrame(tf_data).fillna(0) \n",
    "tf_df.to_csv(\"tf_scores.csv\", index=False) \n"
   ]
  },
  {
   "cell_type": "code",
   "execution_count": 54,
   "id": "09216c2b-9b69-4166-84dc-a508bf40eac1",
   "metadata": {},
   "outputs": [],
   "source": [
    "idf = compute_idf(documents) \n",
    "idf_df = pd.DataFrame([idf]).fillna(0) \n",
    "idf_df.to_csv(\"idf_scores.csv\", index=False) "
   ]
  },
  {
   "cell_type": "code",
   "execution_count": 56,
   "id": "d0592cd7-6581-49d1-8fdd-6e63981c726b",
   "metadata": {},
   "outputs": [],
   "source": [
    "tfidf_data = [compute_tfidf(doc, idf) for doc in documents] \n",
    "tfidf_df = pd.DataFrame(tfidf_data).fillna(0) \n",
    "tfidf_df.to_csv(\"tfidf_scores.csv\", index=False) "
   ]
  },
  {
   "cell_type": "code",
   "execution_count": null,
   "id": "9831957d-7a26-4e57-99f8-1c7f6ab56edf",
   "metadata": {},
   "outputs": [],
   "source": []
  }
 ],
 "metadata": {
  "kernelspec": {
   "display_name": "Python [conda env:base] *",
   "language": "python",
   "name": "conda-base-py"
  },
  "language_info": {
   "codemirror_mode": {
    "name": "ipython",
    "version": 3
   },
   "file_extension": ".py",
   "mimetype": "text/x-python",
   "name": "python",
   "nbconvert_exporter": "python",
   "pygments_lexer": "ipython3",
   "version": "3.12.7"
  }
 },
 "nbformat": 4,
 "nbformat_minor": 5
}
