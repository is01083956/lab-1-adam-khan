{
 "cells": [
  {
   "cell_type": "code",
   "execution_count": 2,
   "id": "d2343e8c-eaf3-4985-8cfe-a981b7b8fb9b",
   "metadata": {},
   "outputs": [],
   "source": [
    "import pandas as pd\n",
    "from sklearn.model_selection import train_test_split\n",
    "from sklearn.feature_extraction.text import TfidfVectorizer\n",
    "from sklearn.naive_bayes import MultinomialNB\n",
    "from sklearn.svm import SVC\n",
    "from sklearn.metrics import classification_report, confusion_matrix, accuracy_score\n",
    "import seaborn as sns\n",
    "import matplotlib.pyplot as plt\n"
   ]
  },
  {
   "cell_type": "code",
   "execution_count": 8,
   "id": "5385e133-1505-44e9-b963-af2445ad1c47",
   "metadata": {},
   "outputs": [
    {
     "name": "stdout",
     "output_type": "stream",
     "text": [
      "                                              Review  \\\n",
      "0  The product arrived on time. Packaging was gre...   \n",
      "1           THIS PRODUCT IS JUST AMAZING! I LOVE IT.   \n",
      "2  I bought this phone for $799, and it has a 120...   \n",
      "3  Wow!!! This product is awesome... but a bit ex...   \n",
      "4                The laptop works perfectly fine.      \n",
      "\n",
      "                                          lowercased  \\\n",
      "0  the product arrived on time. packaging was gre...   \n",
      "1           this product is just amazing! i love it.   \n",
      "2  i bought this phone for $799, and it has a 120...   \n",
      "3  wow!!! this product is awesome... but a bit ex...   \n",
      "4                the laptop works perfectly fine.      \n",
      "\n",
      "                                        urls_removed  \\\n",
      "0  the product arrived on time. packaging was gre...   \n",
      "1           this product is just amazing! i love it.   \n",
      "2  i bought this phone for $799, and it has a 120...   \n",
      "3  wow!!! this product is awesome... but a bit ex...   \n",
      "4                the laptop works perfectly fine.      \n",
      "\n",
      "                                        html_removed  \\\n",
      "0  the product arrived on time. packaging was gre...   \n",
      "1           this product is just amazing! i love it.   \n",
      "2  i bought this phone for $799, and it has a 120...   \n",
      "3  wow!!! this product is awesome... but a bit ex...   \n",
      "4                the laptop works perfectly fine.      \n",
      "\n",
      "                                      emojis_removed  \\\n",
      "0  the product arrived on time. packaging was gre...   \n",
      "1           this product is just amazing! i love it.   \n",
      "2  i bought this phone for $799, and it has a 120...   \n",
      "3  wow!!! this product is awesome... but a bit ex...   \n",
      "4                the laptop works perfectly fine.      \n",
      "\n",
      "                                     slangs_replaced  \\\n",
      "0  the product arrived on time. packaging was gre...   \n",
      "1           this product is just amazing! i love it.   \n",
      "2  i bought this phone for $799, and it has a 120...   \n",
      "3  wow!!! this product is awesome... but a bit ex...   \n",
      "4                the laptop works perfectly fine.      \n",
      "\n",
      "                               contractions_replaced  \\\n",
      "0  the product arrived on time. packaging was gre...   \n",
      "1           this product is just amazing! i love it.   \n",
      "2  i bought this phone for $799, and it has a 120...   \n",
      "3  wow!!! this product is awesome... but a bit ex...   \n",
      "4                the laptop works perfectly fine.      \n",
      "\n",
      "                                punctuations_removed  \\\n",
      "0  the product arrived on time packaging was grea...   \n",
      "1             this product is just amazing i love it   \n",
      "2  i bought this phone for 799 and it has a 120hz...   \n",
      "3    wow this product is awesome but a bit expensive   \n",
      "4                 the laptop works perfectly fine      \n",
      "\n",
      "                                     numbers_removed  \\\n",
      "0  the product arrived on time packaging was grea...   \n",
      "1             this product is just amazing i love it   \n",
      "2  i bought this phone for  and it has a hz displ...   \n",
      "3    wow this product is awesome but a bit expensive   \n",
      "4                 the laptop works perfectly fine      \n",
      "\n",
      "                                  spelling_corrected  \\\n",
      "0  the product arrived on time packaging was grea...   \n",
      "1             this product is just amazing i love it   \n",
      "2  i bought this phone for  and it has a hz displ...   \n",
      "3    wow this product is awesome but a bit expensive   \n",
      "4                 the laptop works perfectly fine      \n",
      "\n",
      "                                   stopwords_removed  \\\n",
      "0  product arrived time packaging great quality a...   \n",
      "1                               product amazing love   \n",
      "2              bought phone hz display totally worth   \n",
      "3                  wow product awesome bit expensive   \n",
      "4                        laptop works perfectly fine   \n",
      "\n",
      "                                  stemmed_words  \\\n",
      "0  product arriv time packag great qualiti amaz   \n",
      "1                             product amaz love   \n",
      "2           bought phone hz display total worth   \n",
      "3                 wow product awesom bit expens   \n",
      "4                    laptop work perfectli fine   \n",
      "\n",
      "                                          lemmatized  \\\n",
      "0  product arrive time packaging great quality am...   \n",
      "1                                 product amaze love   \n",
      "2                 buy phone hz display totally worth   \n",
      "3                  wow product awesome bit expensive   \n",
      "4                         laptop work perfectly fine   \n",
      "\n",
      "                                           tokenized  label  \n",
      "0  ['product', 'arrive', 'time', 'packaging', 'gr...      1  \n",
      "1                       ['product', 'amaze', 'love']      1  \n",
      "2  ['buy', 'phone', 'hz', 'display', 'totally', '...      1  \n",
      "3  ['wow', 'product', 'awesome', 'bit', 'expensive']      1  \n",
      "4            ['laptop', 'work', 'perfectly', 'fine']      1  \n"
     ]
    }
   ],
   "source": [
    "import pandas as pd\n",
    "\n",
    "# Load the CSV (make sure it's in your working directory)\n",
    "df = pd.read_csv(\"Processed_Reviews (2).csv\")\n",
    "\n",
    "# Check the first few rows to understand the structure\n",
    "print(df.head())\n",
    "\n"
   ]
  },
  {
   "cell_type": "code",
   "execution_count": 10,
   "id": "d7a66f1e-330a-43ec-93ee-6f87e3f2f852",
   "metadata": {},
   "outputs": [],
   "source": [
    "df['label'] = df['label'].astype('category').cat.codes\n"
   ]
  },
  {
   "cell_type": "code",
   "execution_count": 20,
   "id": "09ff08af-1b19-469d-ae32-b5952fa9ae2b",
   "metadata": {},
   "outputs": [],
   "source": [
    "from sklearn.feature_extraction.text import TfidfVectorizer\n",
    "\n",
    "# Make sure everything is the right type\n",
    "df['lemmatized'] = df['lemmatized'].astype(str)\n",
    "\n",
    "vectorizer = TfidfVectorizer()\n",
    "X = vectorizer.fit_transform(df['lemmatized'])\n",
    "\n",
    "# Convert label to numeric (if not already)\n",
    "y = df['label'].astype('category').cat.codes\n",
    "\n",
    "\n"
   ]
  },
  {
   "cell_type": "code",
   "execution_count": 22,
   "id": "e7b2d02a-5328-4256-9e0f-1e04b9f7462e",
   "metadata": {},
   "outputs": [],
   "source": [
    "from sklearn.model_selection import train_test_split\n",
    "\n",
    "X_train, X_test, y_train, y_test = train_test_split(X, y, test_size=0.2, random_state=42)\n",
    "\n"
   ]
  },
  {
   "cell_type": "code",
   "execution_count": 30,
   "id": "3fe9c149-dc5e-4d64-881d-d71b4ae70561",
   "metadata": {},
   "outputs": [],
   "source": [
    "from sklearn.naive_bayes import MultinomialNB\n",
    "from sklearn.svm import LinearSVC\n"
   ]
  },
  {
   "cell_type": "code",
   "execution_count": 32,
   "id": "e1f48b26-7d9f-4ec7-b99a-7fe0d2336935",
   "metadata": {},
   "outputs": [],
   "source": [
    "from sklearn.model_selection import train_test_split\n",
    "\n",
    "X_train, X_test, y_train, y_test = train_test_split(X, y, test_size=0.2, random_state=42)\n"
   ]
  },
  {
   "cell_type": "code",
   "execution_count": null,
   "id": "a64a06e5-de2d-4b4d-bd26-65cc386f59b8",
   "metadata": {},
   "outputs": [],
   "source": []
  }
 ],
 "metadata": {
  "kernelspec": {
   "display_name": "Python [conda env:base] *",
   "language": "python",
   "name": "conda-base-py"
  },
  "language_info": {
   "codemirror_mode": {
    "name": "ipython",
    "version": 3
   },
   "file_extension": ".py",
   "mimetype": "text/x-python",
   "name": "python",
   "nbconvert_exporter": "python",
   "pygments_lexer": "ipython3",
   "version": "3.12.7"
  }
 },
 "nbformat": 4,
 "nbformat_minor": 5
}
